{
  "nbformat": 4,
  "nbformat_minor": 0,
  "metadata": {
    "colab": {
      "provenance": [],
      "authorship_tag": "ABX9TyOxJX9cFWEA8u59s/YPdBUF",
      "include_colab_link": true
    },
    "kernelspec": {
      "name": "python3",
      "display_name": "Python 3"
    },
    "language_info": {
      "name": "python"
    }
  },
  "cells": [
    {
      "cell_type": "markdown",
      "metadata": {
        "id": "view-in-github",
        "colab_type": "text"
      },
      "source": [
        "<a href=\"https://colab.research.google.com/github/AROMAL2059/Pwc_Digital_Intelligence.ipynb/blob/main/Task_3_Quant_Finance_Modelling.ipynb\" target=\"_parent\"><img src=\"https://colab.research.google.com/assets/colab-badge.svg\" alt=\"Open In Colab\"/></a>"
      ]
    },
    {
      "cell_type": "code",
      "execution_count": 1,
      "metadata": {
        "id": "1vXGy9QquDuY"
      },
      "outputs": [],
      "source": [
        "import pandas as pd\n",
        "import numpy as np\n"
      ]
    },
    {
      "cell_type": "code",
      "source": [
        "# Read the CSV file (using ';' as the separator)\n",
        "data = pd.read_csv(\"/content/Data.csv\", sep=\";\")"
      ],
      "metadata": {
        "id": "CsiPojfc5YAx"
      },
      "execution_count": 3,
      "outputs": []
    },
    {
      "cell_type": "code",
      "source": [
        "# Set parameters\n",
        "n_forecast = 30  # number of forecast periods\n",
        "n_vintage = data.shape[0]  # number of vintages\n",
        "discount_rate = 0.025  # annual discount rate"
      ],
      "metadata": {
        "id": "hsWEF8aw5e-E"
      },
      "execution_count": 4,
      "outputs": []
    },
    {
      "cell_type": "code",
      "source": [
        "# Extract the historical cash flows (from the 3rd column onward) and amounts originated (2nd column)\n",
        "historical_cf = data.iloc[:, 2:].values  # converting to a NumPy array\n",
        "amount_originated = data.iloc[:, 1].values  # 1D array"
      ],
      "metadata": {
        "id": "ABebqNYN5igl"
      },
      "execution_count": 5,
      "outputs": []
    },
    {
      "cell_type": "code",
      "source": [
        "\n",
        "# Compute periods remaining per vintage (R's n.vintage:1 produces a descending sequence)\n",
        "# In Python, we create a descending array from n_vintage down to 1, then subtract from n_forecast.\n",
        "periods_remaining = n_forecast - np.arange(n_vintage, 0, -1)\n"
      ],
      "metadata": {
        "id": "Uwl_sfwD5mrU"
      },
      "execution_count": 6,
      "outputs": []
    },
    {
      "cell_type": "code",
      "source": [
        "# Compute the historical paid percentages: observed repayments divided by the originated amount (broadcasting row-wise)\n",
        "# Note: historical_cf is a 2D array and amount_originated is a 1D array.\n",
        "paid_percentages = historical_cf / amount_originated[:, None]"
      ],
      "metadata": {
        "id": "UlmQGsQG5pb4"
      },
      "execution_count": 7,
      "outputs": []
    },
    {
      "cell_type": "code",
      "source": [
        "# Extract the first period repayment percentage (diagonal elements)\n",
        "first_period = np.diag(paid_percentages)"
      ],
      "metadata": {
        "id": "MY-o8ydc5txp"
      },
      "execution_count": 8,
      "outputs": []
    },
    {
      "cell_type": "code",
      "source": [
        "# For the second period, take the diagonal of paid_percentages (excluding last row and first column),\n",
        "# then append the last vintage's second period as twice its first period.\n",
        "second_period_part = np.diag(paid_percentages[:-1, 1:])\n",
        "second_period_last = paid_percentages[-1, -1] * 2  # bottom-right element * 2\n",
        "second_period = np.concatenate((second_period_part, [second_period_last]))"
      ],
      "metadata": {
        "id": "0bvDKqE-5v3B"
      },
      "execution_count": 9,
      "outputs": []
    },
    {
      "cell_type": "code",
      "source": [
        "# Initialize matrix p (n_vintage x n_forecast) with zeros\n",
        "p = np.zeros((n_vintage, n_forecast))\n",
        "p[:, 0] = first_period      # first period (index 0)\n",
        "p[:, 1] = second_period     # second period (index 1)"
      ],
      "metadata": {
        "id": "BaYXW8an50mN"
      },
      "execution_count": 10,
      "outputs": []
    },
    {
      "cell_type": "code",
      "source": [
        "# Compute expected repayment percentages for periods 3 to n_forecast\n",
        "for i in range(n_vintage):\n",
        "    for j in range(2, n_forecast):  # j=2 corresponds to the third period\n",
        "        cumulative_sum = np.sum(p[i, :j])  # sum of p[i, 0] to p[i, j-1]\n",
        "        p[i, j] = max(0, p[i, 1] * np.log(1 + (1 - cumulative_sum)) * (1 - j / n_forecast))\n"
      ],
      "metadata": {
        "id": "uKQhSdnl5129"
      },
      "execution_count": 11,
      "outputs": []
    },
    {
      "cell_type": "code",
      "source": [
        "# Create matrix for forecasted repayment percentages (n_vintage x (n_forecast-1))\n",
        "p_forecast = np.zeros((n_vintage, n_forecast - 1))\n",
        "for i in range(n_vintage):\n",
        "    # For vintage i, assign the expected repayment percentages to the future periods.\n",
        "    # The correct starting column in p is: n_forecast - periods_remaining[i]\n",
        "    start_index = n_forecast - periods_remaining[i]\n",
        "    # Loop over the number of forecast periods for this vintage\n",
        "    for j in range(periods_remaining[i]):\n",
        "        p_forecast[i, j] = p[i, start_index + j]"
      ],
      "metadata": {
        "id": "vPqGJPyC59lQ"
      },
      "execution_count": 12,
      "outputs": []
    },
    {
      "cell_type": "code",
      "source": [
        "# Compute discount factors for each future period (from 1 to n_forecast-1)\n",
        "# Note: we convert the annual discount rate to a monthly factor.\n",
        "discount_factors = 1 / ((1 + discount_rate) ** (np.arange(1, n_forecast) / 12))"
      ],
      "metadata": {
        "id": "v0T5B-x55-uu"
      },
      "execution_count": 13,
      "outputs": []
    },
    {
      "cell_type": "code",
      "source": [
        "# Compute the present value (PV) of forecasted cash flows.\n",
        "# Multiply each forecasted percentage by the corresponding discount factor and the originated amount.\n",
        "pv = p_forecast * discount_factors[None, :] * amount_originated[:, None]\n",
        "\n",
        "# Sum all present values to get the portfolio value\n",
        "result = pv.sum()\n"
      ],
      "metadata": {
        "id": "Lw_6PKWo6BQ-"
      },
      "execution_count": 14,
      "outputs": []
    },
    {
      "cell_type": "code",
      "source": [
        "# Print the result rounded to two decimal places\n",
        "print(\"The fair value estimate for the portfolio is\", round(result, 2), \"Swiss Francs\")"
      ],
      "metadata": {
        "colab": {
          "base_uri": "https://localhost:8080/"
        },
        "id": "EPJkQjtR6GE6",
        "outputId": "8e09f7b9-0e8c-4d79-cb1f-f062d10ecdbd"
      },
      "execution_count": 15,
      "outputs": [
        {
          "output_type": "stream",
          "name": "stdout",
          "text": [
            "The fair value estimate for the portfolio is 84779941.82 Swiss Francs\n"
          ]
        }
      ]
    }
  ]
}